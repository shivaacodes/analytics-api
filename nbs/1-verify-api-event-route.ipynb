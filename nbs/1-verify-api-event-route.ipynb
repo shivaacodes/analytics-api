{
 "cells": [
  {
   "cell_type": "code",
   "execution_count": 25,
   "id": "a5b4004f",
   "metadata": {},
   "outputs": [],
   "source": [
    "import requests,pprint"
   ]
  },
  {
   "cell_type": "code",
   "execution_count": 26,
   "id": "d1497ba9",
   "metadata": {},
   "outputs": [
    {
     "data": {
      "text/plain": [
       "'http://localhost:8002/api/events'"
      ]
     },
     "execution_count": 26,
     "metadata": {},
     "output_type": "execute_result"
    }
   ],
   "source": [
    "#GET mthod\n",
    "path= '/api/events'\n",
    "base_url='http://localhost:8002'\n",
    "endpoint=f\"{base_url}{path}\"\n",
    "endpoint"
   ]
  },
  {
   "cell_type": "code",
   "execution_count": 32,
   "id": "e4a6e901",
   "metadata": {},
   "outputs": [
    {
     "name": "stdout",
     "output_type": "stream",
     "text": [
      "Status: 500\n",
      "Success: False\n",
      "Error Response: Internal Server Error\n"
     ]
    }
   ],
   "source": [
    "#post method test\n",
    "path = '/api/events/'\n",
    "base_url = 'http://localhost:8002'\n",
    "create_endpoint = f\"{base_url}{path}\"\n",
    "\n",
    "payload = {\n",
    "    \"page\": \"/test+\",\n",
    "    \"description\": \"123\"\n",
    "}\n",
    "\n",
    "response = requests.post(create_endpoint, json=payload)\n",
    "\n",
    "print(\"Status:\", response.status_code)\n",
    "print(\"Success:\", response.ok)\n",
    "\n",
    "if response.ok:\n",
    "    data = response.json()\n",
    "    print(\"Response Data:\", data, type(data))\n",
    "else:\n",
    "    print(\"Error Response:\", response.text)"
   ]
  },
  {
   "cell_type": "code",
   "execution_count": 28,
   "id": "7bf847e2",
   "metadata": {},
   "outputs": [
    {
     "name": "stdout",
     "output_type": "stream",
     "text": [
      "ok True\n",
      "{'count': 0, 'results': []}\n"
     ]
    }
   ],
   "source": [
    "response=requests.get(endpoint)\n",
    "print(\"ok\",response.ok)\n",
    "if response.ok:\n",
    "    data=response.json()\n",
    "    pprint.pprint(data)"
   ]
  },
  {
   "cell_type": "code",
   "execution_count": 29,
   "id": "9caa6192",
   "metadata": {},
   "outputs": [
    {
     "name": "stdout",
     "output_type": "stream",
     "text": [
      "ok False\n",
      "{\"detail\":\"Event not found\"}\n"
     ]
    }
   ],
   "source": [
    "#put method test\n",
    "detail_path= '/api/events/5'\n",
    "detail_endpoint=f\"{base_url}{detail_path}\"\n",
    "response= requests.put(detail_endpoint,json={\"description\": \"tourist family\"}) #HTTP put\n",
    "#print(response.headers)\n",
    "print(\"ok\",response.ok)\n",
    "if response.ok:\n",
    "    data=response.json()\n",
    "    print(data,type(data))\n",
    "else:\n",
    "    print(response.text)"
   ]
  },
  {
   "cell_type": "code",
   "execution_count": null,
   "id": "332023e0",
   "metadata": {},
   "outputs": [
    {
     "name": "stdout",
     "output_type": "stream",
     "text": [
      "Internal Server Error\n",
      "Internal Server Error\n",
      "Internal Server Error\n",
      "Internal Server Error\n",
      "Internal Server Error\n",
      "Internal Server Error\n",
      "Internal Server Error\n",
      "Internal Server Error\n",
      "Internal Server Error\n",
      "Internal Server Error\n",
      "Internal Server Error\n",
      "Internal Server Error\n",
      "Internal Server Error\n",
      "Internal Server Error\n",
      "Internal Server Error\n",
      "Internal Server Error\n",
      "Internal Server Error\n",
      "Internal Server Error\n",
      "Internal Server Error\n",
      "Internal Server Error\n",
      "Internal Server Error\n",
      "Internal Server Error\n",
      "Internal Server Error\n",
      "Internal Server Error\n",
      "Internal Server Error\n",
      "Internal Server Error\n",
      "Internal Server Error\n",
      "Internal Server Error\n",
      "Internal Server Error\n",
      "Internal Server Error\n",
      "Internal Server Error\n",
      "Internal Server Error\n",
      "Internal Server Error\n",
      "Internal Server Error\n",
      "Internal Server Error\n",
      "Internal Server Error\n",
      "Internal Server Error\n",
      "Internal Server Error\n",
      "Internal Server Error\n",
      "Internal Server Error\n",
      "Internal Server Error\n",
      "Internal Server Error\n",
      "Internal Server Error\n",
      "Internal Server Error\n",
      "Internal Server Error\n",
      "Internal Server Error\n",
      "Internal Server Error\n",
      "Internal Server Error\n",
      "Internal Server Error\n",
      "Internal Server Error\n",
      "Internal Server Error\n",
      "Internal Server Error\n",
      "Internal Server Error\n",
      "Internal Server Error\n",
      "Internal Server Error\n",
      "Internal Server Error\n",
      "Internal Server Error\n",
      "Internal Server Error\n",
      "Internal Server Error\n",
      "Internal Server Error\n",
      "Internal Server Error\n",
      "Internal Server Error\n",
      "Internal Server Error\n",
      "Internal Server Error\n",
      "Internal Server Error\n",
      "Internal Server Error\n",
      "Internal Server Error\n",
      "Internal Server Error\n",
      "Internal Server Error\n",
      "Internal Server Error\n",
      "Internal Server Error\n",
      "Internal Server Error\n",
      "Internal Server Error\n",
      "Internal Server Error\n",
      "Internal Server Error\n",
      "Internal Server Error\n",
      "Internal Server Error\n",
      "Internal Server Error\n",
      "Internal Server Error\n",
      "Internal Server Error\n",
      "Internal Server Error\n",
      "Internal Server Error\n",
      "Internal Server Error\n",
      "Internal Server Error\n",
      "Internal Server Error\n",
      "Internal Server Error\n",
      "Internal Server Error\n",
      "Internal Server Error\n",
      "Internal Server Error\n",
      "Internal Server Error\n",
      "Internal Server Error\n",
      "Internal Server Error\n",
      "Internal Server Error\n",
      "Internal Server Error\n",
      "Internal Server Error\n",
      "Internal Server Error\n",
      "Internal Server Error\n",
      "Internal Server Error\n",
      "Internal Server Error\n",
      "Internal Server Error\n"
     ]
    }
   ],
   "source": [
    "# import random\n",
    "# event_count=100\n",
    "# pages=['/about','/contact','/pages','/pricing']\n",
    "\n",
    "# for i in range(event_count):\n",
    "#     page=random.choice(pages)\n",
    "#     response=requests.post(create_endpoint,json={\"page\":page})\n",
    "#     if response.ok:\n",
    "#         data=response.json()\n",
    "#         print(data,type(data),data.get('results'))\n",
    "#     else:\n",
    "#         print(response.text)"
   ]
  },
  {
   "cell_type": "code",
   "execution_count": 31,
   "id": "ed7e8ee5",
   "metadata": {},
   "outputs": [
    {
     "name": "stdout",
     "output_type": "stream",
     "text": [
      "ok False\n",
      "{\"detail\":\"Event not found\"}\n"
     ]
    }
   ],
   "source": [
    "#get method test\n",
    "detail_path= '/api/events/6'\n",
    "detail_endpoint=f\"{base_url}{detail_path}\"\n",
    "r= requests.get(detail_endpoint)\n",
    "print(\"ok\",response.ok)\n",
    "if r.ok:\n",
    "    data=r.json()\n",
    "    pprint.pprint(data)\n",
    "else:\n",
    "    print(response.text)"
   ]
  }
 ],
 "metadata": {
  "kernelspec": {
   "display_name": "analytics-api",
   "language": "python",
   "name": "python3"
  },
  "language_info": {
   "codemirror_mode": {
    "name": "ipython",
    "version": 3
   },
   "file_extension": ".py",
   "mimetype": "text/x-python",
   "name": "python",
   "nbconvert_exporter": "python",
   "pygments_lexer": "ipython3",
   "version": "3.12.9"
  }
 },
 "nbformat": 4,
 "nbformat_minor": 5
}
