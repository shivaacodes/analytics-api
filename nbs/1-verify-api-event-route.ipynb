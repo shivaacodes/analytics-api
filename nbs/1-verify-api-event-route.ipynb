{
 "cells": [
  {
   "cell_type": "code",
   "execution_count": 52,
   "id": "a5b4004f",
   "metadata": {},
   "outputs": [],
   "source": [
    "import requests,pprint"
   ]
  },
  {
   "cell_type": "code",
   "execution_count": 53,
   "id": "d1497ba9",
   "metadata": {},
   "outputs": [
    {
     "data": {
      "text/plain": [
       "'http://localhost:8002/api/events'"
      ]
     },
     "execution_count": 53,
     "metadata": {},
     "output_type": "execute_result"
    }
   ],
   "source": [
    "#GET mthod\n",
    "path= '/api/events'\n",
    "base_url='http://localhost:8002'\n",
    "endpoint=f\"{base_url}{path}\"\n",
    "endpoint"
   ]
  },
  {
   "cell_type": "code",
   "execution_count": 54,
   "id": "e4a6e901",
   "metadata": {},
   "outputs": [
    {
     "name": "stdout",
     "output_type": "stream",
     "text": [
      "Status: 200\n",
      "Success: True\n",
      "Response Data: {'description': '123', 'page': '/test+', 'id': 6} <class 'dict'>\n"
     ]
    }
   ],
   "source": [
    "#post method test\n",
    "path = '/api/events/'\n",
    "base_url = 'http://localhost:8002'\n",
    "create_endpoint = f\"{base_url}{path}\"\n",
    "\n",
    "payload = {\n",
    "    \"page\": \"/test+\",\n",
    "    \"description\": \"123\"\n",
    "}\n",
    "\n",
    "response = requests.post(create_endpoint, json=payload)\n",
    "\n",
    "print(\"Status:\", response.status_code)\n",
    "print(\"Success:\", response.ok)\n",
    "\n",
    "if response.ok:\n",
    "    data = response.json()\n",
    "    print(\"Response Data:\", data, type(data))\n",
    "else:\n",
    "    print(\"Error Response:\", response.text)"
   ]
  },
  {
   "cell_type": "code",
   "execution_count": 55,
   "id": "f368f374",
   "metadata": {},
   "outputs": [
    {
     "name": "stdout",
     "output_type": "stream",
     "text": [
      "{'date': 'Tue, 03 Jun 2025 12:22:51 GMT', 'server': 'uvicorn', 'content-length': '28', 'content-type': 'application/json'}\n",
      "ok False\n",
      "{\"detail\":\"Event not found\"}\n"
     ]
    }
   ],
   "source": [
    "#put method test\n",
    "detail_path= '/api/events/13'\n",
    "detail_endpoint=f\"{base_url}{detail_path}\"\n",
    "response= requests.put(detail_endpoint,json={\"description\": \"tourist family\"}) #HTTP put\n",
    "print(response.headers)\n",
    "print(\"ok\",response.ok)\n",
    "if response.ok:\n",
    "    data=response.json()\n",
    "    print(data,type(data))\n",
    "else:\n",
    "    print(response.text)"
   ]
  },
  {
   "cell_type": "code",
   "execution_count": 56,
   "id": "7bf847e2",
   "metadata": {},
   "outputs": [
    {
     "name": "stdout",
     "output_type": "stream",
     "text": [
      "ok True\n",
      "{'count': 6,\n",
      " 'results': [{'description': '123', 'id': 1, 'page': '/test+'},\n",
      "             {'description': '123', 'id': 2, 'page': '/test+'},\n",
      "             {'description': '123', 'id': 3, 'page': '/test+'},\n",
      "             {'description': '123', 'id': 4, 'page': '/test+'},\n",
      "             {'description': '123', 'id': 5, 'page': '/test+'},\n",
      "             {'description': '123', 'id': 6, 'page': '/test+'}]}\n"
     ]
    }
   ],
   "source": [
    "response=requests.get(endpoint)\n",
    "print(\"ok\",response.ok)\n",
    "if response.ok:\n",
    "    data=response.json()\n",
    "    pprint.pprint(data)"
   ]
  }
 ],
 "metadata": {
  "kernelspec": {
   "display_name": "analytics-api",
   "language": "python",
   "name": "python3"
  },
  "language_info": {
   "codemirror_mode": {
    "name": "ipython",
    "version": 3
   },
   "file_extension": ".py",
   "mimetype": "text/x-python",
   "name": "python",
   "nbconvert_exporter": "python",
   "pygments_lexer": "ipython3",
   "version": "3.12.9"
  }
 },
 "nbformat": 4,
 "nbformat_minor": 5
}
