{
 "cells": [
  {
   "cell_type": "code",
   "execution_count": 97,
   "id": "a5b4004f",
   "metadata": {},
   "outputs": [],
   "source": [
    "import requests,pprint"
   ]
  },
  {
   "cell_type": "code",
   "execution_count": 98,
   "id": "d1497ba9",
   "metadata": {},
   "outputs": [
    {
     "data": {
      "text/plain": [
       "'http://localhost:8002/api/events'"
      ]
     },
     "execution_count": 98,
     "metadata": {},
     "output_type": "execute_result"
    }
   ],
   "source": [
    "#GET mthod\n",
    "path= '/api/events'\n",
    "base_url='http://localhost:8002'\n",
    "endpoint=f\"{base_url}{path}\"\n",
    "endpoint"
   ]
  },
  {
   "cell_type": "code",
   "execution_count": 99,
   "id": "e4a6e901",
   "metadata": {},
   "outputs": [
    {
     "name": "stdout",
     "output_type": "stream",
     "text": [
      "Status: 200\n",
      "Success: True\n",
      "Response Data: {'description': '123', 'page': '/test+', 'id': 13} <class 'dict'>\n"
     ]
    }
   ],
   "source": [
    "#post method test\n",
    "path = '/api/events/'\n",
    "base_url = 'http://localhost:8002'\n",
    "create_endpoint = f\"{base_url}{path}\"\n",
    "\n",
    "payload = {\n",
    "    \"page\": \"/test+\",\n",
    "    \"description\": \"123\"\n",
    "}\n",
    "\n",
    "response = requests.post(create_endpoint, json=payload)\n",
    "\n",
    "print(\"Status:\", response.status_code)\n",
    "print(\"Success:\", response.ok)\n",
    "\n",
    "if response.ok:\n",
    "    data = response.json()\n",
    "    print(\"Response Data:\", data, type(data))\n",
    "else:\n",
    "    print(\"Error Response:\", response.text)"
   ]
  },
  {
   "cell_type": "code",
   "execution_count": 100,
   "id": "7bf847e2",
   "metadata": {},
   "outputs": [
    {
     "name": "stdout",
     "output_type": "stream",
     "text": [
      "ok True\n",
      "{'count': 13,\n",
      " 'results': [{'description': '123', 'id': 13, 'page': '/test+'},\n",
      "             {'description': '123', 'id': 12, 'page': '/test+'},\n",
      "             {'description': '123', 'id': 11, 'page': '/test+'},\n",
      "             {'description': '123', 'id': 10, 'page': '/test+'},\n",
      "             {'description': '123', 'id': 9, 'page': '/test+'},\n",
      "             {'description': '123', 'id': 8, 'page': '/test+'},\n",
      "             {'description': '123', 'id': 7, 'page': '/test+'},\n",
      "             {'description': '123', 'id': 6, 'page': '/test+'},\n",
      "             {'description': '123', 'id': 5, 'page': '/test+'},\n",
      "             {'description': '123', 'id': 4, 'page': '/test+'},\n",
      "             {'description': '123', 'id': 3, 'page': '/test+'},\n",
      "             {'description': '123', 'id': 2, 'page': '/test+'},\n",
      "             {'description': '123', 'id': 1, 'page': '/test+'}]}\n"
     ]
    }
   ],
   "source": [
    "response=requests.get(endpoint)\n",
    "print(\"ok\",response.ok)\n",
    "if response.ok:\n",
    "    data=response.json()\n",
    "    pprint.pprint(data)"
   ]
  },
  {
   "cell_type": "code",
   "execution_count": 101,
   "id": "9caa6192",
   "metadata": {},
   "outputs": [
    {
     "name": "stdout",
     "output_type": "stream",
     "text": [
      "{'date': 'Tue, 03 Jun 2025 16:45:02 GMT', 'server': 'uvicorn', 'content-length': '56', 'content-type': 'application/json'}\n",
      "ok True\n",
      "{'description': 'tourist family', 'page': '/test+', 'id': 13} <class 'dict'>\n"
     ]
    }
   ],
   "source": [
    "#put method test\n",
    "detail_path= '/api/events/13'\n",
    "detail_endpoint=f\"{base_url}{detail_path}\"\n",
    "response= requests.put(detail_endpoint,json={\"description\": \"tourist family\"}) #HTTP put\n",
    "print(response.headers)\n",
    "print(\"ok\",response.ok)\n",
    "if response.ok:\n",
    "    data=response.json()\n",
    "    print(data,type(data))\n",
    "else:\n",
    "    print(response.text)"
   ]
  },
  {
   "cell_type": "code",
   "execution_count": 102,
   "id": "ed7e8ee5",
   "metadata": {},
   "outputs": [
    {
     "name": "stdout",
     "output_type": "stream",
     "text": [
      "ok True\n",
      "{'description': '123', 'id': 12, 'page': '/test+'}\n"
     ]
    }
   ],
   "source": [
    "#get method test\n",
    "detail_path= '/api/events/12'\n",
    "detail_endpoint=f\"{base_url}{detail_path}\"\n",
    "r= requests.get(detail_endpoint)\n",
    "print(\"ok\",response.ok)\n",
    "if r.ok:\n",
    "    data=r.json()\n",
    "    pprint.pprint(data)\n",
    "else:\n",
    "    print(response.text)"
   ]
  }
 ],
 "metadata": {
  "kernelspec": {
   "display_name": "analytics-api",
   "language": "python",
   "name": "python3"
  },
  "language_info": {
   "codemirror_mode": {
    "name": "ipython",
    "version": 3
   },
   "file_extension": ".py",
   "mimetype": "text/x-python",
   "name": "python",
   "nbconvert_exporter": "python",
   "pygments_lexer": "ipython3",
   "version": "3.12.9"
  }
 },
 "nbformat": 4,
 "nbformat_minor": 5
}
