{
 "cells": [
  {
   "cell_type": "code",
   "execution_count": 61,
   "id": "a5b4004f",
   "metadata": {},
   "outputs": [],
   "source": [
    "import requests,pprint"
   ]
  },
  {
   "cell_type": "code",
   "execution_count": 62,
   "id": "d1497ba9",
   "metadata": {},
   "outputs": [
    {
     "data": {
      "text/plain": [
       "'http://localhost:8002/api/events'"
      ]
     },
     "execution_count": 62,
     "metadata": {},
     "output_type": "execute_result"
    }
   ],
   "source": [
    "#GET mthod\n",
    "path= '/api/events'\n",
    "base_url='http://localhost:8002'\n",
    "endpoint=f\"{base_url}{path}\"\n",
    "endpoint"
   ]
  },
  {
   "cell_type": "code",
   "execution_count": 63,
   "id": "e4a6e901",
   "metadata": {},
   "outputs": [
    {
     "name": "stdout",
     "output_type": "stream",
     "text": [
      "Status: 200\n",
      "Success: True\n",
      "Response Data: {'id': 9, 'updated_at': '2025-06-05T15:17:33.727365', 'time': '2025-06-05T15:17:33.727357Z', 'page': '/test+', 'description': '123'} <class 'dict'>\n"
     ]
    }
   ],
   "source": [
    "#post method test\n",
    "import requests\n",
    "path = '/api/events/'\n",
    "base_url = 'http://localhost:8002'\n",
    "create_endpoint = f\"{base_url}{path}\"\n",
    "\n",
    "payload = {\n",
    "    \"page\": \"/test+\",\n",
    "    \"description\": \"123\"\n",
    "}\n",
    "\n",
    "response = requests.post(create_endpoint, json=payload)\n",
    "\n",
    "print(\"Status:\", response.status_code)\n",
    "print(\"Success:\", response.ok)\n",
    "\n",
    "if response.ok:\n",
    "    data = response.json()\n",
    "    print(\"Response Data:\", data, type(data))\n",
    "else:\n",
    "    print(\"Error Response:\", response.text)"
   ]
  },
  {
   "cell_type": "code",
   "execution_count": 64,
   "id": "7bf847e2",
   "metadata": {},
   "outputs": [
    {
     "name": "stdout",
     "output_type": "stream",
     "text": [
      "ok True\n",
      "{'count': 9,\n",
      " 'results': [{'description': '123',\n",
      "              'id': 9,\n",
      "              'page': '/test+',\n",
      "              'time': '2025-06-05T15:17:33.727357Z',\n",
      "              'updated_at': '2025-06-05T15:17:33.727365'},\n",
      "             {'description': '123',\n",
      "              'id': 8,\n",
      "              'page': '/test+',\n",
      "              'time': '2025-06-05T15:17:33.585242Z',\n",
      "              'updated_at': '2025-06-05T15:17:33.585316'},\n",
      "             {'description': '123',\n",
      "              'id': 7,\n",
      "              'page': '/test+',\n",
      "              'time': '2025-06-05T15:17:33.424434Z',\n",
      "              'updated_at': '2025-06-05T15:17:33.424468'},\n",
      "             {'description': '123',\n",
      "              'id': 6,\n",
      "              'page': '/test+',\n",
      "              'time': '2025-06-05T15:17:31.292719Z',\n",
      "              'updated_at': '2025-06-05T15:17:31.292736'},\n",
      "             {'description': '123',\n",
      "              'id': 5,\n",
      "              'page': '/test+',\n",
      "              'time': '2025-06-05T15:17:31.177915Z',\n",
      "              'updated_at': '2025-06-05T15:17:31.177948'},\n",
      "             {'description': '123',\n",
      "              'id': 4,\n",
      "              'page': '/test+',\n",
      "              'time': '2025-06-05T15:17:31.035250Z',\n",
      "              'updated_at': '2025-06-05T15:17:31.035264'},\n",
      "             {'description': '123',\n",
      "              'id': 3,\n",
      "              'page': '/test+',\n",
      "              'time': '2025-06-05T15:17:30.876797Z',\n",
      "              'updated_at': '2025-06-05T15:17:30.876824'},\n",
      "             {'description': '123',\n",
      "              'id': 2,\n",
      "              'page': '/test+',\n",
      "              'time': '2025-06-05T15:17:30.728509Z',\n",
      "              'updated_at': '2025-06-05T15:17:30.728533'},\n",
      "             {'description': '123',\n",
      "              'id': 1,\n",
      "              'page': '/test+',\n",
      "              'time': '2025-06-05T15:17:30.587698Z',\n",
      "              'updated_at': '2025-06-05T15:17:30.587726'}]}\n"
     ]
    }
   ],
   "source": [
    "response=requests.get(endpoint)\n",
    "print(\"ok\",response.ok)\n",
    "if response.ok:\n",
    "    data=response.json()\n",
    "    pprint.pprint(data)"
   ]
  },
  {
   "cell_type": "code",
   "execution_count": 65,
   "id": "9caa6192",
   "metadata": {},
   "outputs": [
    {
     "name": "stdout",
     "output_type": "stream",
     "text": [
      "{'date': 'Thu, 05 Jun 2025 15:17:33 GMT', 'server': 'uvicorn', 'content-length': '28', 'content-type': 'application/json'}\n",
      "ok False\n",
      "{\"detail\":\"Event not found\"}\n"
     ]
    }
   ],
   "source": [
    "#put method test\n",
    "detail_path= '/api/events/13'\n",
    "detail_endpoint=f\"{base_url}{detail_path}\"\n",
    "response= requests.put(detail_endpoint,json={\"description\": \"tourist family\"}) #HTTP put\n",
    "print(response.headers)\n",
    "print(\"ok\",response.ok)\n",
    "if response.ok:\n",
    "    data=response.json()\n",
    "    print(data,type(data))\n",
    "else:\n",
    "    print(response.text)"
   ]
  },
  {
   "cell_type": "code",
   "execution_count": null,
   "id": "332023e0",
   "metadata": {},
   "outputs": [],
   "source": []
  },
  {
   "cell_type": "code",
   "execution_count": 66,
   "id": "ed7e8ee5",
   "metadata": {},
   "outputs": [
    {
     "name": "stdout",
     "output_type": "stream",
     "text": [
      "ok False\n",
      "{'description': '123',\n",
      " 'id': 6,\n",
      " 'page': '/test+',\n",
      " 'time': '2025-06-05T15:17:31.292719Z',\n",
      " 'updated_at': '2025-06-05T15:17:31.292736'}\n"
     ]
    }
   ],
   "source": [
    "#get method test\n",
    "detail_path= '/api/events/6'\n",
    "detail_endpoint=f\"{base_url}{detail_path}\"\n",
    "r= requests.get(detail_endpoint)\n",
    "print(\"ok\",response.ok)\n",
    "if r.ok:\n",
    "    data=r.json()\n",
    "    pprint.pprint(data)\n",
    "else:\n",
    "    print(response.text)"
   ]
  }
 ],
 "metadata": {
  "kernelspec": {
   "display_name": "analytics-api",
   "language": "python",
   "name": "python3"
  },
  "language_info": {
   "codemirror_mode": {
    "name": "ipython",
    "version": 3
   },
   "file_extension": ".py",
   "mimetype": "text/x-python",
   "name": "python",
   "nbconvert_exporter": "python",
   "pygments_lexer": "ipython3",
   "version": "3.12.9"
  }
 },
 "nbformat": 4,
 "nbformat_minor": 5
}
