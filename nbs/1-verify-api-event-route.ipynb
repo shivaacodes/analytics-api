{
 "cells": [
  {
   "cell_type": "code",
   "execution_count": 34,
   "id": "a5b4004f",
   "metadata": {},
   "outputs": [],
   "source": [
    "import requests"
   ]
  },
  {
   "cell_type": "code",
   "execution_count": 35,
   "id": "d1497ba9",
   "metadata": {},
   "outputs": [
    {
     "data": {
      "text/plain": [
       "'http://localhost:8002/api/events'"
      ]
     },
     "execution_count": 35,
     "metadata": {},
     "output_type": "execute_result"
    }
   ],
   "source": [
    "#GET mthod\n",
    "path= '/api/events'\n",
    "base_url='http://localhost:8002'\n",
    "endpoint=f\"{base_url}{path}\"\n",
    "endpoint"
   ]
  },
  {
   "cell_type": "code",
   "execution_count": 36,
   "id": "e4a6e901",
   "metadata": {},
   "outputs": [
    {
     "name": "stdout",
     "output_type": "stream",
     "text": [
      "{'date': 'Mon, 02 Jun 2025 14:43:02 GMT', 'server': 'uvicorn', 'content-length': '57', 'content-type': 'application/json'}\n",
      "True\n",
      "{'id': 125, 'page': '/test+', 'description': 'My description'} <class 'dict'>\n"
     ]
    }
   ],
   "source": [
    "#post method test\n",
    "path= '/api/events/'\n",
    "base_url='http://localhost:8002' #127.0.0.1\n",
    "create_endpoint=f\"{base_url}{path}\"\n",
    "\n",
    "response= requests.post(create_endpoint,json={\"page\": \"/test+\"}) #HTTP post\n",
    "print(response.headers)\n",
    "print(response.ok)\n",
    "if response.ok:\n",
    "    data=response.json()\n",
    "    print(data,type(data))\n",
    "else:\n",
    "    print(response.text)"
   ]
  },
  {
   "cell_type": "code",
   "execution_count": 37,
   "id": "f368f374",
   "metadata": {},
   "outputs": [
    {
     "name": "stdout",
     "output_type": "stream",
     "text": [
      "{'date': 'Mon, 02 Jun 2025 14:43:02 GMT', 'server': 'uvicorn', 'content-length': '47', 'content-type': 'application/json'}\n",
      "ok True\n",
      "{'id': 13, 'page': '', 'description': 'Hello World'} <class 'dict'>\n"
     ]
    }
   ],
   "source": [
    "#put method test\n",
    "detail_path= '/api/events/13'\n",
    "detail_endpoint=f\"{base_url}{detail_path}\"\n",
    "response= requests.put(detail_endpoint,json={\"description\": \"Hello World\"}) #HTTP put\n",
    "print(response.headers)\n",
    "print(\"ok\",response.ok)\n",
    "if response.ok:\n",
    "    data=response.json()\n",
    "    print(data,type(data))\n",
    "else:\n",
    "    print(response.text)"
   ]
  },
  {
   "cell_type": "code",
   "execution_count": null,
   "id": "7bf847e2",
   "metadata": {},
   "outputs": [],
   "source": []
  }
 ],
 "metadata": {
  "kernelspec": {
   "display_name": "analytics-api",
   "language": "python",
   "name": "python3"
  },
  "language_info": {
   "codemirror_mode": {
    "name": "ipython",
    "version": 3
   },
   "file_extension": ".py",
   "mimetype": "text/x-python",
   "name": "python",
   "nbconvert_exporter": "python",
   "pygments_lexer": "ipython3",
   "version": "3.12.9"
  }
 },
 "nbformat": 4,
 "nbformat_minor": 5
}
