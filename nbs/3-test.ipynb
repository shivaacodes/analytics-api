{
 "cells": [
  {
   "cell_type": "code",
   "execution_count": 13,
   "id": "8bf7bf05",
   "metadata": {},
   "outputs": [
    {
     "data": {
      "text/plain": [
       "'http://localhost:8002/api/events'"
      ]
     },
     "execution_count": 13,
     "metadata": {},
     "output_type": "execute_result"
    }
   ],
   "source": [
    "import requests\n",
    "from pprint import pprint\n",
    "path = \"/api/events\"\n",
    "base_url = \"http://localhost:8002\" # 127.0.0.1\n",
    "endpoint = f\"{base_url}{path}\"\n",
    "endpoint"
   ]
  },
  {
   "cell_type": "code",
   "execution_count": 14,
   "id": "1f20d6d7",
   "metadata": {},
   "outputs": [
    {
     "name": "stdout",
     "output_type": "stream",
     "text": [
      "ok True\n",
      "[{'bucket': '2025-06-07T19:30:00Z', 'count': 238, 'page': '/about'},\n",
      " {'bucket': '2025-06-07T19:30:00Z', 'count': 249, 'page': '/contact'},\n",
      " {'bucket': '2025-06-07T19:30:00Z', 'count': 268, 'page': '/pricing'},\n",
      " {'bucket': '2025-06-07T19:31:00Z', 'count': 752, 'page': '/about'},\n",
      " {'bucket': '2025-06-07T19:31:00Z', 'count': 794, 'page': '/contact'},\n",
      " {'bucket': '2025-06-07T19:31:00Z', 'count': 682, 'page': '/pricing'}]\n"
     ]
    }
   ],
   "source": [
    "response = requests.get(endpoint, params={'duration': '1 minutes', 'pages': []})\n",
    "print('ok', response.ok)\n",
    "if response.ok:\n",
    "    data = response.json()\n",
    "    pprint(data)"
   ]
  }
 ],
 "metadata": {
  "kernelspec": {
   "display_name": "analytics-api",
   "language": "python",
   "name": "python3"
  },
  "language_info": {
   "codemirror_mode": {
    "name": "ipython",
    "version": 3
   },
   "file_extension": ".py",
   "mimetype": "text/x-python",
   "name": "python",
   "nbconvert_exporter": "python",
   "pygments_lexer": "ipython3",
   "version": "3.12.9"
  }
 },
 "nbformat": 4,
 "nbformat_minor": 5
}
